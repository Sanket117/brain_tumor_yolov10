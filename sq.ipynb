{
 "cells": [
  {
   "cell_type": "code",
   "execution_count": 1,
   "metadata": {},
   "outputs": [],
   "source": [
    "import sqlite3\n",
    "\n",
    "# Create a connection to the database\n",
    "conn = sqlite3.connect('patient_info.db')\n",
    "\n",
    "# Create a table for storing patient information\n",
    "conn.execute('''\n",
    "CREATE TABLE IF NOT EXISTS patients (\n",
    "    patient_id INTEGER PRIMARY KEY,\n",
    "    name TEXT,\n",
    "    age INTEGER,\n",
    "    gender TEXT,\n",
    "    medical_history TEXT,\n",
    "    contact_info TEXT,\n",
    "    notes TEXT\n",
    ")\n",
    "''')\n",
    "conn.commit()"
   ]
  },
  {
   "cell_type": "code",
   "execution_count": 8,
   "metadata": {},
   "outputs": [],
   "source": [
    "def add_patient(patient_id, name, age, gender, medical_history, contact_info, notes):\n",
    "    conn.execute('''\n",
    "    INSERT INTO patients (patient_id, name, age, gender, medical_history, contact_info, notes)\n",
    "    VALUES (?,?,?,?,?,?,?)\n",
    "    ''', (patient_id, name, age, gender, medical_history, contact_info, notes))\n",
    "    conn.commit()"
   ]
  },
  {
   "cell_type": "code",
   "execution_count": 9,
   "metadata": {},
   "outputs": [],
   "source": [
    "def get_patient_info(patient_id):\n",
    "    cursor = conn.execute('''\n",
    "    SELECT * FROM patients WHERE patient_id =? \n",
    "    ''', (patient_id,))\n",
    "    return cursor.fetchone()"
   ]
  },
  {
   "cell_type": "code",
   "execution_count": 11,
   "metadata": {},
   "outputs": [],
   "source": [
    "def handle_patient_query(patient_id):\n",
    "    patient_info = get_patient_info(patient_id)\n",
    "    if patient_info:\n",
    "        return f\"Patient Info: Name: {patient_info[1]}, Age: {patient_info[2]}, Gender: {patient_info[3]}, Medical History: {patient_info[4]}, Contact Info: {patient_info[5]}, Notes: {patient_info[6]}\"\n",
    "    else:\n",
    "        return \"Patient not found.\"\n"
   ]
  },
  {
   "cell_type": "code",
   "execution_count": 16,
   "metadata": {},
   "outputs": [],
   "source": [
    "add_patient(2, \"Ram \", 40, \"Male\", \"Healthy\", \"123-456-7894\", \"Major problem notes\")"
   ]
  },
  {
   "cell_type": "code",
   "execution_count": 19,
   "metadata": {},
   "outputs": [
    {
     "name": "stdout",
     "output_type": "stream",
     "text": [
      "Patient Info: Name: Ram , Age: 40, Gender: Male, Medical History: Healthy, Contact Info: 123-456-7894, Notes: Major problem notes\n"
     ]
    }
   ],
   "source": [
    "print(handle_patient_query(2))\n"
   ]
  },
  {
   "cell_type": "code",
   "execution_count": 25,
   "metadata": {},
   "outputs": [],
   "source": [
    "import sqlite3\n",
    "\n",
    "# Create a connection to the SQLite database\n",
    "conn = sqlite3.connect('patients_info.db')\n",
    "\n",
    "# Create a table for storing detailed patient information\n",
    "conn.execute('''\n",
    "CREATE TABLE IF NOT EXISTS patients (\n",
    "    patient_id INTEGER PRIMARY KEY,\n",
    "    name TEXT,\n",
    "    date_of_birth TEXT,\n",
    "    gender TEXT,\n",
    "    medical_history TEXT,\n",
    "    tumor_type TEXT,\n",
    "    tumor_location TEXT,\n",
    "    tumor_size TEXT,\n",
    "    diagnosis_date TEXT,\n",
    "    treatment_plan TEXT,\n",
    "    follow_up_reports TEXT,\n",
    "    treating_physician TEXT,\n",
    "    next_appointment TEXT,\n",
    "    contact_info TEXT,\n",
    "    notes TEXT\n",
    ")\n",
    "''')\n",
    "conn.commit()\n",
    "\n",
    "# Close the connection\n",
    "conn.close()\n"
   ]
  },
  {
   "cell_type": "code",
   "execution_count": 26,
   "metadata": {},
   "outputs": [],
   "source": [
    "# Create a connection to the SQLite database\n",
    "conn = sqlite3.connect('patients_info.db')\n",
    "\n",
    "# Insert patient data\n",
    "conn.execute('''\n",
    "INSERT INTO patients (\n",
    "    patient_id, name, date_of_birth, gender, medical_history, \n",
    "    tumor_type, tumor_location, tumor_size, diagnosis_date, \n",
    "    treatment_plan, follow_up_reports, treating_physician, \n",
    "    next_appointment, contact_info, notes\n",
    ") \n",
    "VALUES (\n",
    "    2, \"Jane Smith\", \"1985-12-20\", \"Female\", \n",
    "    \"Diagnosed with Meningioma in 2022, no other significant medical history.\",\n",
    "    \"Meningioma\", \"Right parietal lobe\", \"2.5 cm\", \n",
    "    \"2022-07-15\", \"Surgery performed on 2022-08-10, followed by observation.\",\n",
    "    \"No recurrence detected during the follow-up MRI on 2023-01-20.\",\n",
    "    \"Dr. Emily Carter\", \"2024-10-15\", \"555-123-4567\", \"\"\n",
    ")\n",
    "''')\n",
    "\n",
    "conn.commit()\n",
    "conn.close()\n"
   ]
  },
  {
   "cell_type": "code",
   "execution_count": 28,
   "metadata": {},
   "outputs": [
    {
     "name": "stdout",
     "output_type": "stream",
     "text": [
      "(2, 'Jane Smith', '1985-12-20', 'Female', 'Diagnosed with Meningioma in 2022, no other significant medical history.', 'Meningioma', 'Right parietal lobe', '2.5 cm', '2022-07-15', 'Surgery performed on 2022-08-10, followed by observation.', 'No recurrence detected during the follow-up MRI on 2023-01-20.', 'Dr. Emily Carter', '2024-10-15', '555-123-4567', '')\n"
     ]
    }
   ],
   "source": [
    "# Create a connection to the SQLite database\n",
    "conn = sqlite3.connect('patients_info.db')\n",
    "\n",
    "# Query the patient information\n",
    "cursor = conn.execute('SELECT * FROM patients WHERE patient_id = 2')\n",
    "\n",
    "# Fetch the results\n",
    "patient_info = cursor.fetchone()\n",
    "print(patient_info)\n",
    "\n",
    "conn.close()\n"
   ]
  },
  {
   "cell_type": "code",
   "execution_count": 52,
   "metadata": {},
   "outputs": [
    {
     "ename": "NameError",
     "evalue": "name 'followup_reports' is not defined",
     "output_type": "error",
     "traceback": [
      "\u001b[1;31m---------------------------------------------------------------------------\u001b[0m",
      "\u001b[1;31mNameError\u001b[0m                                 Traceback (most recent call last)",
      "Cell \u001b[1;32mIn[52], line 6\u001b[0m\n\u001b[0;32m      3\u001b[0m \u001b[38;5;66;03m# Connect to the SQLite database\u001b[39;00m\n\u001b[0;32m      4\u001b[0m conn \u001b[38;5;241m=\u001b[39m sqlite3\u001b[38;5;241m.\u001b[39mconnect(\u001b[38;5;124m'\u001b[39m\u001b[38;5;124mpatients_info.db\u001b[39m\u001b[38;5;124m'\u001b[39m)\n\u001b[1;32m----> 6\u001b[0m cursor\u001b[38;5;241m.\u001b[39mexecute(\u001b[38;5;124m'''\u001b[39m\u001b[38;5;124mINSERT INTO patients (follow_up_reports) VALUES (?)\u001b[39m\u001b[38;5;124m'''\u001b[39m, (\u001b[43mfollowup_reports\u001b[49m))\n",
      "\u001b[1;31mNameError\u001b[0m: name 'followup_reports' is not defined"
     ]
    }
   ],
   "source": [
    "import sqlite3\n",
    "\n",
    "# Connect to the SQLite database\n",
    "conn = sqlite3.connect('patients_info.db')\n",
    "\n",
    "cursor.execute('''INSERT INTO patients (follow_up_reports) VALUES (?)''', (followup_reports))\n"
   ]
  },
  {
   "cell_type": "code",
   "execution_count": 30,
   "metadata": {},
   "outputs": [],
   "source": [
    "# Function to get patient information by ID\n",
    "def get_patient_info(patient_id):\n",
    "    cursor = conn.execute('''\n",
    "    SELECT * FROM patients WHERE patient_id = ?\n",
    "    ''', (patient_id,))\n",
    "    return cursor.fetchone()"
   ]
  },
  {
   "cell_type": "code",
   "execution_count": 31,
   "metadata": {},
   "outputs": [],
   "source": [
    "# Function to handle patient queries and return formatted information\n",
    "def handle_patient_query(patient_id):\n",
    "    patient_info = get_patient_info(patient_id)\n",
    "    \n",
    "    if patient_info:\n",
    "        return (f\"Patient Info:\\n\"\n",
    "                f\"Name: {patient_info[1]}\\n\"\n",
    "                f\"Date of Birth: {patient_info[2]}\\n\"\n",
    "                f\"Gender: {patient_info[3]}\\n\"\n",
    "                f\"Medical History: {patient_info[4]}\\n\"\n",
    "                f\"Tumor Type: {patient_info[5]}\\n\"\n",
    "                f\"Tumor Location: {patient_info[6]}\\n\"\n",
    "                f\"Tumor Size: {patient_info[7]}\\n\"\n",
    "                f\"Diagnosis Date: {patient_info[8]}\\n\"\n",
    "                f\"Treatment Plan: {patient_info[9]}\\n\"\n",
    "                f\"Follow-Up Reports: {patient_info[10]}\\n\"\n",
    "                f\"Treating Physician: {patient_info[11]}\\n\"\n",
    "                f\"Next Appointment: {patient_info[12]}\\n\"\n",
    "                f\"Contact Info: {patient_info[13]}\\n\"\n",
    "                f\"Notes: {patient_info[14]}\")\n",
    "    else:\n",
    "        return \"Patient not found.\""
   ]
  },
  {
   "cell_type": "code",
   "execution_count": 32,
   "metadata": {},
   "outputs": [
    {
     "name": "stdout",
     "output_type": "stream",
     "text": [
      "Patient Info:\n",
      "Name: John Doe\n",
      "Date of Birth: 1990-03-15\n",
      "Gender: Male\n",
      "Medical History: History of Glioma\n",
      "Tumor Type: Glioma\n",
      "Tumor Location: Left temporal lobe\n",
      "Tumor Size: 3.0 cm\n",
      "Diagnosis Date: 2023-05-10\n",
      "Treatment Plan: Surgery and chemotherapy\n",
      "Follow-Up Reports: No recurrence detected on follow-up MRI in 2024\n",
      "Treating Physician: Dr. Emily Carter\n",
      "Next Appointment: 2024-11-15\n",
      "Contact Info: 555-987-6543\n",
      "Notes: Patient is in good health\n"
     ]
    }
   ],
   "source": [
    "# Example usage: Adding a patient\n",
    "add_patient(\n",
    "    3, \"John Doe\", \"1990-03-15\", \"Male\", \n",
    "    \"History of Glioma\", \"Glioma\", \"Left temporal lobe\", \"3.0 cm\", \n",
    "    \"2023-05-10\", \"Surgery and chemotherapy\", \"No recurrence detected on follow-up MRI in 2024\", \n",
    "    \"Dr. Emily Carter\", \"2024-11-15\", \"555-987-6543\", \"Patient is in good health\"\n",
    ")\n",
    "\n",
    "# Example usage: Querying a patient by ID\n",
    "print(handle_patient_query(3))\n",
    "\n",
    "# Close the connection after use\n",
    "conn.close()"
   ]
  },
  {
   "cell_type": "code",
   "execution_count": 42,
   "metadata": {},
   "outputs": [],
   "source": [
    "import sqlite3\n",
    "\n",
    "# Connect to SQLite database (or create it if it doesn't exist)\n",
    "conn = sqlite3.connect('patients_info.db')\n",
    "\n",
    "# Function to add patient\n",
    "def add_patient(patient_id, name, date_of_birth, gender, medical_history, tumor_type, tumor_location, tumor_size, diagnosis_date, treatment_plan, follow_up_reports, treating_physician, next_appointment, contact_info, notes):\n",
    "    conn.execute('''\n",
    "    INSERT INTO patients (patient_id, name, date_of_birth, gender, medical_history, tumor_type, tumor_location, tumor_size, diagnosis_date, treatment_plan, follow_up_reports, treating_physician, next_appointment, contact_info, notes)\n",
    "    VALUES (?, ?, ?, ?, ?, ?, ?, ?, ?, ?, ?, ?, ?, ?, ?)\n",
    "    ''', (patient_id, name, date_of_birth, gender, medical_history, tumor_type, tumor_location, tumor_size, diagnosis_date, treatment_plan, follow_up_reports, treating_physician, next_appointment, contact_info, notes))\n",
    "    conn.commit()\n",
    "\n",
    "add_patient(\n",
    "    7, \"Meenakshi Gupta\", \"1979-09-10\", \"Female\", \n",
    "    \"Glioma discovered in 2020\", \"Glioma\", \"Left occipital lobe\", \"2.8 cm\", \n",
    "    \"2020-04-19\", \"Radiation and chemotherapy\", \"Tumor size stable in 2023\", \n",
    "    \"Dr. Ankit Sinha\", \"2024-10-28\", \"9876123456\", \"Minor cognitive decline noted, under observation.\"\n",
    ")\n",
    "\n",
    "\n"
   ]
  },
  {
   "cell_type": "code",
   "execution_count": 50,
   "metadata": {},
   "outputs": [
    {
     "name": "stdout",
     "output_type": "stream",
     "text": [
      "(0, 'patient_id', 'INTEGER', 0, None, 1)\n",
      "(1, 'name', 'TEXT', 0, None, 0)\n",
      "(2, 'date_of_birth', 'TEXT', 0, None, 0)\n",
      "(3, 'gender', 'TEXT', 0, None, 0)\n",
      "(4, 'medical_history', 'TEXT', 0, None, 0)\n",
      "(5, 'tumor_type', 'TEXT', 0, None, 0)\n",
      "(6, 'tumor_location', 'TEXT', 0, None, 0)\n",
      "(7, 'tumor_size', 'TEXT', 0, None, 0)\n",
      "(8, 'diagnosis_date', 'TEXT', 0, None, 0)\n",
      "(9, 'treatment_plan', 'TEXT', 0, None, 0)\n",
      "(10, 'follow_up_reports', 'TEXT', 0, None, 0)\n",
      "(11, 'treating_physician', 'TEXT', 0, None, 0)\n",
      "(12, 'next_appointment', 'TEXT', 0, None, 0)\n",
      "(13, 'contact_info', 'TEXT', 0, None, 0)\n",
      "(14, 'notes', 'TEXT', 0, None, 0)\n"
     ]
    }
   ],
   "source": [
    "import sqlite3\n",
    "\n",
    "def get_table_info():\n",
    "    # Connect to the SQLite database\n",
    "    conn = sqlite3.connect('patients_info.db')\n",
    "    cursor = conn.cursor()\n",
    "\n",
    "    # Execute PRAGMA command to get table structure\n",
    "    cursor.execute(\"PRAGMA table_info(patients);\")\n",
    "    \n",
    "    # Fetch all rows\n",
    "    table_info = cursor.fetchall()\n",
    "\n",
    "    # Close the connection\n",
    "    conn.close()\n",
    "\n",
    "    # Print the table information\n",
    "    for column in table_info:\n",
    "        print(column)\n",
    "\n",
    "# Call the function\n",
    "get_table_info()\n"
   ]
  },
  {
   "cell_type": "code",
   "execution_count": null,
   "metadata": {},
   "outputs": [],
   "source": []
  },
  {
   "cell_type": "code",
   "execution_count": 45,
   "metadata": {},
   "outputs": [],
   "source": [
    "import sqlite3\n",
    "\n",
    "# Connect to SQLite database (or create it if it doesn't exist)\n",
    "conn = sqlite3.connect('patients_info.db')\n",
    "add_patient(\n",
    "    8, \"Arjun Sharma\", \"1993-07-25\", \"Male\", \n",
    "    \"No prior health conditions, pituitary tumor in 2021\", \"Pituitary\", \"Pituitary gland\", \"1.2 cm\", \n",
    "    \"2021-11-05\", \"Surgery\", \"Recovery smooth, no issues in 2023 MRI\", \n",
    "    \"Dr. Shweta Rao\", \"2024-12-05\", \"9876567890\", \"Patient doing well, hormone levels stable.\"\n",
    ")\n",
    "\n",
    "add_patient(\n",
    "    9, \"Sunita Reddy\", \"1958-04-15\", \"Female\", \n",
    "    \"Diagnosed with meningioma in 2018\", \"Meningioma\", \"Right temporal lobe\", \"4.0 cm\", \n",
    "    \"2018-08-13\", \"Surgical removal\", \"Follow-up shows no recurrence as of 2021\", \n",
    "    \"Dr. Vinay Prasad\", \"2024-11-12\", \"9123432101\", \"Under regular check-ups, no issues reported.\"\n",
    ")\n",
    "\n",
    "add_patient(\n",
    "    10, \"Sandeep Yadav\", \"1982-01-10\", \"Male\", \n",
    "    \"Pituitary tumor detected in 2020\", \"Pituitary\", \"Pituitary gland\", \"1.6 cm\", \n",
    "    \"2020-06-22\", \"Surgery followed by observation\", \"MRI shows no issues in 2022\", \n",
    "    \"Dr. Rakesh Menon\", \"2024-10-20\", \"9198765432\", \"Patient stable, minor fatigue reported.\"\n",
    ")\n",
    "\n",
    "add_patient(\n",
    "    11, \"Anjali Verma\", \"1990-12-29\", \"Female\", \n",
    "    \"Diagnosed with glioma in 2023\", \"Glioma\", \"Left parietal lobe\", \"2.0 cm\", \n",
    "    \"2023-02-18\", \"Radiation therapy\", \"Initial treatment successful, follow-up pending\", \n",
    "    \"Dr. Kavita Jha\", \"2024-12-15\", \"9087654321\", \"Responding well to treatment, stable condition.\"\n",
    ")\n",
    "\n",
    "add_patient(\n",
    "    12, \"Ravi Malhotra\", \"1978-08-05\", \"Male\", \n",
    "    \"Glioma diagnosed in 2022\", \"Glioma\", \"Right temporal lobe\", \"3.2 cm\", \n",
    "    \"2022-03-28\", \"Surgery and chemotherapy\", \"Post-surgery MRI in 2023 shows stable condition\", \n",
    "    \"Dr. Rohit Agarwal\", \"2024-10-10\", \"9876123678\", \"Under regular observation, doing well.\"\n",
    ")\n",
    "\n",
    "add_patient(\n",
    "    13, \"Sneha Dixit\", \"1992-03-30\", \"Female\", \n",
    "    \"Meningioma diagnosed in 2021\", \"Meningioma\", \"Left frontal lobe\", \"2.5 cm\", \n",
    "    \"2021-05-12\", \"Surgery followed by observation\", \"Stable as of 2022, no signs of recurrence\", \n",
    "    \"Dr. Ajay Prasad\", \"2024-11-25\", \"9212345678\", \"Occasional headaches, but stable overall.\"\n",
    ")\n",
    "\n",
    "add_patient(\n",
    "    14, \"Manish Patel\", \"1985-06-14\", \"Male\", \n",
    "    \"No major medical history, pituitary tumor found in 2020\", \"Pituitary\", \"Pituitary gland\", \"1.3 cm\", \n",
    "    \"2020-10-01\", \"Surgical removal\", \"MRI in 2023 shows no recurrence\", \n",
    "    \"Dr. Leena Mathur\", \"2024-12-01\", \"9191919191\", \"Hormone therapy ongoing, stable condition.\"\n",
    ")\n",
    "\n",
    "add_patient(\n",
    "    15, \"Pooja Bhardwaj\", \"1987-09-18\", \"Female\", \n",
    "    \"Diagnosed with glioma in 2020\", \"Glioma\", \"Right frontal lobe\", \"2.7 cm\", \n",
    "    \"2020-06-05\", \"Surgery and radiation therapy\", \"MRI in 2023 shows tumor shrinkage\", \n",
    "    \"Dr. Arun Mehta\", \"2024-11-10\", \"9123123456\", \"Responding well to treatment, under observation.\"\n",
    ")\n",
    "\n",
    "add_patient(\n",
    "    16, \"Karan Singh\", \"1970-02-22\", \"Male\", \n",
    "    \"Meningioma detected in 2019\", \"Meningioma\", \"Right occipital lobe\", \"3.8 cm\", \n",
    "    \"2019-11-30\", \"Surgical excision\", \"MRI in 2021 shows no recurrence\", \n",
    "    \"Dr. Suresh Joshi\", \"2024-12-10\", \"9998887777\", \"Patient is stable, no post-op issues.\"\n",
    ")\n",
    "\n",
    "add_patient(\n",
    "    17, \"Aarti Sharma\", \"1995-05-10\", \"Female\", \n",
    "    \"Glioma diagnosed in 2022\", \"Glioma\", \"Left temporal lobe\", \"3.0 cm\", \n",
    "    \"2022-07-15\", \"Surgery and chemotherapy\", \"MRI shows reduced tumor size in 2023\", \n",
    "    \"Dr. Radhika Desai\", \"2024-11-15\", \"9887766554\", \"Cognitive functions slightly affected, stable.\"\n",
    ")\n",
    "\n",
    "add_patient(\n",
    "    18, \"Abhinav Das\", \"1980-07-12\", \"Male\", \n",
    "    \"Diagnosed with pituitary adenoma in 2020\", \"Pituitary\", \"Pituitary gland\", \"1.7 cm\", \n",
    "    \"2020-12-18\", \"Surgery followed by observation\", \"MRI in 2023 shows no further issues\", \n",
    "    \"Dr. Rakesh Khatri\", \"2024-11-22\", \"9292929292\", \"Patient doing well, hormone levels stable.\"\n",
    ")\n",
    "\n",
    "add_patient(\n",
    "    19, \"Ritu Sharma\", \"1986-04-19\", \"Female\", \n",
    "    \"Meningioma diagnosed in 2020\", \"Meningioma\", \"Right frontal lobe\", \"2.9 cm\", \n",
    "    \"2020-09-02\", \"Surgical removal\", \"MRI in 2022 shows no signs of recurrence\", \n",
    "    \"Dr. Pooja Gupta\", \"2024-10-30\", \"9345612345\", \"No issues post-surgery, under regular follow-up.\"\n",
    ")\n",
    "\n",
    "add_patient(\n",
    "    20, \"Rakesh Khanna\", \"1991-10-05\", \"Male\", \n",
    "    \"Glioma found in 2023\", \"Glioma\", \"Left occipital lobe\", \"2.6 cm\", \n",
    "    \"2023-01-28\", \"Chemotherapy ongoing\", \"MRI scheduled for follow-up in 2024\", \n",
    "    \"Dr. Ranjit Singh\", \"2024-12-12\", \"9876432112\", \"Responding well to treatment, no major complaints.\"\n",
    ")\n",
    "\n"
   ]
  },
  {
   "cell_type": "code",
   "execution_count": 54,
   "metadata": {},
   "outputs": [
    {
     "ename": "NameError",
     "evalue": "name 'followup_reports' is not defined",
     "output_type": "error",
     "traceback": [
      "\u001b[1;31m---------------------------------------------------------------------------\u001b[0m",
      "\u001b[1;31mNameError\u001b[0m                                 Traceback (most recent call last)",
      "Cell \u001b[1;32mIn[54], line 5\u001b[0m\n\u001b[0;32m      3\u001b[0m \u001b[38;5;66;03m# Connect to SQLite database (or create it if it doesn't exist)\u001b[39;00m\n\u001b[0;32m      4\u001b[0m conn \u001b[38;5;241m=\u001b[39m sqlite3\u001b[38;5;241m.\u001b[39mconnect(\u001b[38;5;124m'\u001b[39m\u001b[38;5;124mpatients_info.db\u001b[39m\u001b[38;5;124m'\u001b[39m)\n\u001b[1;32m----> 5\u001b[0m cursor\u001b[38;5;241m.\u001b[39mexecute(\u001b[38;5;124m'''\u001b[39m\u001b[38;5;124mINSERT INTO patients (follow_up_reports) VALUES (?, ?)\u001b[39m\u001b[38;5;124m'''\u001b[39m, (\u001b[43mfollowup_reports\u001b[49m))\n\u001b[0;32m      7\u001b[0m conn\u001b[38;5;241m.\u001b[39mclose()\n",
      "\u001b[1;31mNameError\u001b[0m: name 'followup_reports' is not defined"
     ]
    }
   ],
   "source": [
    "import sqlite3\n",
    "\n",
    "# Connect to SQLite database (or create it if it doesn't exist)\n",
    "conn = sqlite3.connect('patients_info.db')\n",
    "cursor.execute('''INSERT INTO patients (follow_up_reports) VALUES (?, ?)''', (followup_reports))\n",
    "\n",
    "conn.close()"
   ]
  },
  {
   "cell_type": "code",
   "execution_count": 55,
   "metadata": {},
   "outputs": [
    {
     "name": "stdout",
     "output_type": "stream",
     "text": [
      "(0, 'patient_id', 'INTEGER', 0, None, 1)\n",
      "(1, 'name', 'TEXT', 0, None, 0)\n",
      "(2, 'date_of_birth', 'TEXT', 0, None, 0)\n",
      "(3, 'gender', 'TEXT', 0, None, 0)\n",
      "(4, 'medical_history', 'TEXT', 0, None, 0)\n",
      "(5, 'tumor_type', 'TEXT', 0, None, 0)\n",
      "(6, 'tumor_location', 'TEXT', 0, None, 0)\n",
      "(7, 'tumor_size', 'TEXT', 0, None, 0)\n",
      "(8, 'diagnosis_date', 'TEXT', 0, None, 0)\n",
      "(9, 'treatment_plan', 'TEXT', 0, None, 0)\n",
      "(10, 'follow_up_reports', 'TEXT', 0, None, 0)\n",
      "(11, 'treating_physician', 'TEXT', 0, None, 0)\n",
      "(12, 'next_appointment', 'TEXT', 0, None, 0)\n",
      "(13, 'contact_info', 'TEXT', 0, None, 0)\n",
      "(14, 'notes', 'TEXT', 0, None, 0)\n"
     ]
    }
   ],
   "source": [
    "import sqlite3\n",
    "\n",
    "# Connect to SQLite database\n",
    "conn = sqlite3.connect('patients_info.db')\n",
    "\n",
    "cursor = conn.cursor()\n",
    "cursor.execute(\"PRAGMA table_info(patients);\")\n",
    "columns = cursor.fetchall()\n",
    "\n",
    "for column in columns:\n",
    "    print(column)\n",
    "\n",
    "conn.close()\n"
   ]
  }
 ],
 "metadata": {
  "kernelspec": {
   "display_name": "venv",
   "language": "python",
   "name": "python3"
  },
  "language_info": {
   "codemirror_mode": {
    "name": "ipython",
    "version": 3
   },
   "file_extension": ".py",
   "mimetype": "text/x-python",
   "name": "python",
   "nbconvert_exporter": "python",
   "pygments_lexer": "ipython3",
   "version": "3.12.4"
  }
 },
 "nbformat": 4,
 "nbformat_minor": 2
}
